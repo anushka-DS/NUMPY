{
 "cells": [
  {
   "cell_type": "markdown",
   "metadata": {},
   "source": [
    "<h2 style = \"color : Brown\"> Case Study - Cricket Tournament </h2>\n",
    "\n",
    "<h4 style = \"color : Sky blue\"> Example - 1</h4>  \n",
    "\n",
    "##### Players list contain the height(inches) and weight(lbs) data for all the players"
   ]
  },
  {
   "cell_type": "code",
   "execution_count": 3,
   "metadata": {},
   "outputs": [],
   "source": [
    "# list of height and weight of the players.\n",
    "players = [(74, 180), (74, 215), (72, 210), (72, 210), (73, 188), (69, 176), (69, 209), (71, 200), (76, 231), (71, 180), (73, 188), (73, 180), (74, 185), (74, 160), (69, 180), (70, 185), (73, 189), (75, 185), (78, 219), (79, 230), (76, 205), (74, 230), (76, 195), (72, 180), (71, 192), (75, 225), (77, 203), (74, 195), (73, 182), (74, 188), (78, 200), (73, 180), (75, 200), (73, 200), (75, 245), (75, 240), (74, 215), (69, 185), (71, 175), (74, 199), (73, 200), (73, 215), (76, 200), (74, 205), (74, 206), (70, 186), (72, 188), (77, 220), (74, 210), (70, 195), (73, 200), (75, 200), (76, 212), (76, 224), (78, 210), (74, 205), (74, 220), (76, 195), (77, 200), (81, 260), (78, 228), (75, 270), (77, 200), (75, 210), (76, 190), (74, 220), (72, 180), (72, 205), (75, 210), (73, 220), (73, 211), (73, 200), (70, 180), (70, 190), (70, 170), (76, 230), (68, 155), (71, 185), (72, 185), (75, 200), (75, 225), (75, 225), (75, 220), (68, 160), (74, 205), (78, 235), (71, 250), (73, 210), (76, 190), (74, 160), (74, 200), (79, 205), (75, 222), (73, 195), (76, 205), (74, 220), (74, 220), (73, 170), (72, 185), (74, 195), (73, 220), (74, 230), (72, 180), (73, 220), (69, 180), (72, 180), (73, 170), (75, 210), (75, 215), (73, 200), (72, 213), (72, 180), (76, 192), (74, 235), (72, 185), (77, 235), (74, 210), (77, 222), (75, 210), (76, 230), (80, 220), (74, 180), (74, 190), (75, 200), (78, 210), (73, 194), (73, 180), (74, 190), (75, 240), (76, 200), (71, 198), (73, 200), (74, 195), (76, 210), (76, 220), (74, 190), (73, 210), (74, 225), (70, 180), (72, 185), (73, 170), (73, 185), (73, 185), (73, 180), (71, 178), (74, 175), (74, 200), (72, 204), (74, 211), (71, 190), (74, 210), (73, 190), (75, 190), (75, 185), (79, 290), (73, 175), (75, 185), (76, 200), (74, 220), (76, 170), (78, 220), (74, 190), (76, 220), (72, 205), (74, 200), (76, 250), (74, 225), (75, 215), (78, 210), (75, 215), (72, 195), (74, 200), (72, 194), (74, 220), (70, 180), (71, 180), (70, 170), (75, 195), (71, 180), (71, 170), (73, 206), (72, 205), (71, 200), (73, 225), (72, 201), (75, 225), (74, 233), (74, 180), (75, 225), (73, 180), (77, 220), (73, 180), (76, 237), (75, 215), (74, 190), (76, 235), (75, 190), (73, 180), (71, 165), (76, 195), (75, 200), (72, 190), (71, 190), (77, 185), (73, 185), (74, 205), (71, 190), (72, 205), (74, 206), (75, 220), (73, 208), (72, 170), (75, 195), (75, 210), (74, 190), (72, 211), (74, 230), (71, 170), (70, 185), (74, 185), (77, 241), (77, 225), (75, 210), (75, 175), (78, 230), (75, 200), (76, 215), (73, 198), (75, 226), (75, 278), (79, 215), (77, 230), (76, 240), (71, 184), (75, 219), (74, 170), (69, 218), (71, 190), (76, 225), (72, 220), (72, 176), (70, 190), (72, 197), (73, 204), (71, 167), (72, 180), (71, 195), (73, 220), (72, 215), (73, 185), (74, 190), (74, 205), (72, 205), (75, 200), (74, 210), (74, 215), (77, 200), (75, 205), (73, 211), (72, 190), (71, 208), (74, 200), (77, 210), (75, 232), (75, 230), (75, 210), (78, 220), (78, 210), (74, 202), (76, 212), (78, 225), (76, 170), (70, 190), (72, 200), (80, 237), (74, 220), (74, 170), (71, 193), (70, 190), (72, 150), (71, 220), (74, 200), (71, 190), (72, 185), (71, 185), (74, 200), (69, 172), (76, 220), (75, 225), (75, 190), (76, 195), (73, 219), (76, 190), (73, 197), (77, 200), (73, 195), (72, 210), (72, 177), (77, 220), (77, 235), (71, 180), (74, 195), (74, 195), (73, 190), (78, 230), (75, 190), (73, 200), (70, 190), (74, 190), (72, 200), (73, 200), (73, 184), (75, 200), (75, 180), (74, 219), (76, 187), (73, 200), (74, 220), (75, 205), (75, 190), (72, 170), (73, 160), (73, 215), (72, 175), (74, 205), (78, 200), (76, 214), (73, 200), (74, 190), (75, 180), (70, 205), (75, 220), (71, 190), (72, 215), (78, 235), (75, 191), (73, 200), (73, 181), (71, 200), (75, 210), (77, 240), (72, 185), (69, 165), (73, 190), (74, 185), (72, 175), (70, 155), (75, 210), (70, 170), (72, 175), (72, 220), (74, 210), (73, 205), (74, 200), (76, 205), (75, 195), (80, 240), (72, 150), (75, 200), (73, 215), (74, 202), (74, 200), (73, 190), (75, 205), (75, 190), (71, 160), (73, 215), (75, 185), (74, 200), (74, 190), (72, 210), (74, 185), (74, 220), (74, 190), (73, 202), (76, 205), (75, 220), (72, 175), (73, 160), (73, 190), (73, 200), (72, 229), (72, 206), (72, 220), (72, 180), (71, 195), (75, 175), (75, 188), (74, 230), (73, 190), (75, 200), (79, 190), (74, 219), (76, 235), (73, 180), (74, 180), (74, 180), (72, 200), (74, 234), (74, 185), (75, 220), (78, 223), (74, 200), (74, 210), (74, 200), (77, 210), (70, 190), (73, 177), (74, 227), (73, 180), (71, 195), (75, 199), (71, 175), (72, 185), (77, 240), (74, 210), (70, 180), (77, 194), (73, 225), (72, 180), (76, 205), (71, 193), (76, 230), (78, 230), (75, 220), (73, 200), (78, 249), (74, 190), (79, 208), (75, 245), (76, 250), (72, 160), (75, 192), (75, 220), (70, 170), (72, 197), (70, 155), (74, 190), (71, 200), (76, 220), (73, 210), (76, 228), (71, 190), (69, 160), (72, 184), (72, 180), (69, 180), (73, 200), (69, 176), (73, 160), (74, 222), (74, 211), (72, 195), (71, 200), (72, 175), (72, 206), (76, 240), (76, 185), (76, 260), (74, 185), (76, 221), (75, 205), (71, 200), (72, 170), (71, 201), (73, 205), (75, 185), (76, 205), (75, 245), (71, 220), (75, 210), (74, 220), (72, 185), (73, 175), (73, 170), (73, 180), (73, 200), (76, 210), (72, 175), (76, 220), (73, 206), (73, 180), (73, 210), (75, 195), (75, 200), (77, 200), (73, 164), (72, 180), (75, 220), (70, 195), (74, 205), (72, 170), (80, 240), (71, 210), (71, 195), (74, 200), (74, 205), (73, 192), (75, 190), (76, 170), (73, 240), (77, 200), (72, 205), (73, 175), (77, 250), (76, 220), (71, 224), (75, 210), (73, 195), (74, 180), (77, 245), (71, 175), (72, 180), (73, 215), (69, 175), (73, 180), (70, 195), (74, 230), (76, 230), (73, 205), (73, 215), (75, 195), (73, 180), (79, 205), (74, 180), (73, 190), (74, 180), (77, 190), (75, 190), (74, 220), (73, 210), (77, 255), (73, 190), (77, 230), (74, 200), (74, 205), (73, 210), (77, 225), (74, 215), (77, 220), (75, 205), (77, 200), (75, 220), (71, 197), (74, 225), (70, 187), (79, 245), (72, 185), (72, 185), (70, 175), (74, 200), (74, 180), (72, 188), (73, 225), (72, 200), (74, 210), (74, 245), (76, 213), (82, 231), (74, 165), (74, 228), (70, 210), (73, 250), (73, 191), (74, 190), (77, 200), (72, 215), (76, 254), (73, 232), (73, 180), (72, 215), (74, 220), (74, 180), (71, 200), (72, 170), (75, 195), (74, 210), (74, 200), (77, 220), (70, 165), (71, 180), (73, 200), (76, 200), (71, 170), (75, 224), (74, 220), (72, 180), (76, 198), (79, 240), (76, 239), (73, 185), (76, 210), (78, 220), (75, 200), (76, 195), (72, 220), (72, 230), (73, 170), (73, 220), (75, 230), (71, 165), (76, 205), (70, 192), (75, 210), (74, 205), (75, 200), (73, 210), (71, 185), (71, 195), (72, 202), (73, 205), (73, 195), (72, 180), (69, 200), (73, 185), (78, 240), (71, 185), (73, 220), (75, 205), (76, 205), (70, 180), (74, 201), (77, 190), (75, 208), (79, 240), (72, 180), (77, 230), (73, 195), (75, 215), (75, 190), (75, 195), (73, 215), (73, 215), (76, 220), (77, 220), (75, 230), (70, 195), (71, 190), (71, 195), (75, 209), (74, 204), (69, 170), (70, 185), (75, 205), (72, 175), (75, 210), (73, 190), (72, 180), (72, 180), (72, 160), (76, 235), (75, 200), (74, 210), (69, 180), (73, 190), (72, 197), (72, 203), (75, 205), (77, 170), (76, 200), (80, 250), (77, 200), (76, 220), (79, 200), (71, 190), (75, 170), (73, 190), (76, 220), (77, 215), (73, 206), (76, 215), (70, 185), (75, 235), (73, 188), (75, 230), (70, 195), (69, 168), (71, 190), (72, 160), (72, 200), (73, 200), (70, 189), (70, 180), (73, 190), (76, 200), (75, 220), (72, 187), (73, 240), (79, 190), (71, 180), (72, 185), (74, 210), (74, 220), (74, 219), (72, 190), (76, 193), (76, 175), (72, 180), (72, 215), (71, 210), (72, 200), (72, 190), (70, 185), (77, 220), (74, 170), (72, 195), (76, 205), (71, 195), (76, 210), (71, 190), (73, 190), (70, 180), (73, 220), (73, 190), (72, 186), (71, 185), (71, 190), (71, 180), (72, 190), (72, 170), (74, 210), (74, 240), (74, 220), (71, 180), (72, 210), (75, 210), (72, 195), (71, 160), (72, 180), (72, 205), (72, 200), (72, 185), (74, 245), (74, 190), (77, 210), (75, 200), (73, 200), (75, 222), (73, 215), (76, 240), (72, 170), (77, 220), (75, 156), (72, 190), (71, 202), (71, 221), (75, 200), (72, 190), (73, 210), (73, 190), (71, 200), (70, 165), (75, 190), (71, 185), (76, 230), (73, 208), (68, 209), (71, 175), (72, 180), (74, 200), (77, 205), (72, 200), (76, 250), (78, 210), (81, 230), (72, 244), (73, 202), (76, 240), (72, 200), (72, 215), (74, 177), (76, 210), (73, 170), (76, 215), (75, 217), (70, 198), (71, 200), (74, 220), (72, 170), (73, 200), (76, 230), (76, 231), (73, 183), (71, 192), (68, 167), (71, 190), (71, 180), (74, 180), (77, 215), (69, 160), (72, 205), (76, 223), (75, 175), (76, 170), (75, 190), (76, 240), (72, 175), (74, 230), (76, 223), (74, 196), (72, 167), (75, 195), (78, 190), (77, 250), (70, 190), (72, 190), (79, 190), (74, 170), (71, 160), (68, 150), (77, 225), (75, 220), (71, 209), (72, 210), (70, 176), (72, 260), (72, 195), (73, 190), (72, 184), (74, 180), (72, 195), (72, 195), (75, 219), (72, 225), (73, 212), (74, 202), (72, 185), (78, 200), (75, 209), (72, 200), (74, 195), (75, 228), (75, 210), (76, 190), (74, 212), (74, 190), (73, 218), (74, 220), (71, 190), (74, 235), (75, 210), (76, 200), (74, 188), (76, 210), (76, 235), (73, 188), (75, 215), (75, 216), (74, 220), (68, 180), (72, 185), (75, 200), (71, 210), (70, 220), (72, 185), (73, 231), (72, 210), (75, 195), (74, 200), (70, 205), (76, 200), (71, 190), (82, 250), (72, 185), (73, 180), (74, 170), (71, 180), (75, 208), (77, 235), (72, 215), (74, 244), (72, 220), (73, 185), (78, 230), (77, 190), (73, 200), (73, 180), (73, 190), (73, 196), (73, 180), (76, 230), (75, 224), (70, 160), (73, 178), (72, 205), (73, 185), (75, 210), (74, 180), (73, 190), (73, 200), (76, 257), (73, 190), (75, 220), (70, 165), (77, 205), (72, 200), (77, 208), (74, 185), (75, 215), (75, 170), (75, 235), (75, 210), (72, 170), (74, 180), (71, 170), (76, 190), (71, 150), (75, 230), (76, 203), (83, 260), (75, 246), (74, 186), (76, 210), (72, 198), (72, 210), (75, 215), (75, 180), (72, 200), (77, 245), (73, 200), (72, 192), (70, 192), (74, 200), (72, 192), (74, 205), (72, 190), (71, 186), (70, 170), (71, 197), (76, 219), (74, 200), (76, 220), (74, 207), (74, 225), (74, 207), (75, 212), (75, 225), (71, 170), (71, 190), (74, 210), (77, 230), (71, 210), (74, 200), (75, 238), (77, 234), (76, 222), (74, 200), (76, 190), (72, 170), (71, 220), (72, 223), (75, 210), (73, 215), (68, 196), (72, 175), (69, 175), (73, 189), (73, 205), (75, 210), (70, 180), (70, 180), (74, 197), (75, 220), (74, 228), (74, 190), (73, 204), (74, 165), (75, 216), (77, 220), (73, 208), (74, 210), (76, 215), (74, 195), (75, 200), (73, 215), (76, 229), (78, 240), (75, 207), (73, 205), (77, 208), (74, 185), (72, 190), (74, 170), (72, 208), (71, 225), (73, 190), (75, 225), (73, 185), (67, 180), (67, 165), (76, 240), (74, 220), (73, 212), (70, 163), (75, 215), (70, 175), (72, 205), (77, 210), (79, 205), (78, 208), (74, 215), (75, 180), (75, 200), (78, 230), (76, 211), (75, 230), (69, 190), (75, 220), (72, 180), (75, 205), (73, 190), (74, 180), (75, 205), (75, 190), (73, 195)]"
   ]
  },
  {
   "cell_type": "code",
   "execution_count": 4,
   "metadata": {},
   "outputs": [],
   "source": [
    "import numpy as np\n",
    "players_h_w = np.array(players)"
   ]
  },
  {
   "cell_type": "code",
   "execution_count": 5,
   "metadata": {},
   "outputs": [
    {
     "data": {
      "text/plain": [
       "array([[ 74, 180],\n",
       "       [ 74, 215],\n",
       "       [ 72, 210],\n",
       "       ...,\n",
       "       [ 75, 205],\n",
       "       [ 75, 190],\n",
       "       [ 73, 195]])"
      ]
     },
     "execution_count": 5,
     "metadata": {},
     "output_type": "execute_result"
    }
   ],
   "source": [
    "players_h_w"
   ]
  },
  {
   "cell_type": "code",
   "execution_count": 6,
   "metadata": {},
   "outputs": [
    {
     "data": {
      "text/plain": [
       "1015"
      ]
     },
     "execution_count": 6,
     "metadata": {},
     "output_type": "execute_result"
    }
   ],
   "source": [
    "len(players_h_w)"
   ]
  },
  {
   "cell_type": "code",
   "execution_count": 9,
   "metadata": {},
   "outputs": [
    {
     "data": {
      "text/plain": [
       "dtype('int32')"
      ]
     },
     "execution_count": 9,
     "metadata": {},
     "output_type": "execute_result"
    }
   ],
   "source": [
    "players_h_w.dtype"
   ]
  },
  {
   "cell_type": "code",
   "execution_count": 12,
   "metadata": {},
   "outputs": [
    {
     "data": {
      "text/plain": [
       "array([ 74, 215])"
      ]
     },
     "execution_count": 12,
     "metadata": {},
     "output_type": "execute_result"
    }
   ],
   "source": [
    "players_h_w[1]"
   ]
  },
  {
   "cell_type": "code",
   "execution_count": 13,
   "metadata": {},
   "outputs": [
    {
     "data": {
      "text/plain": [
       "215"
      ]
     },
     "execution_count": 13,
     "metadata": {},
     "output_type": "execute_result"
    }
   ],
   "source": [
    "players_h_w[1][1]"
   ]
  },
  {
   "cell_type": "markdown",
   "metadata": {},
   "source": [
    "<h4 style = \"color : Sky blue\"> Example - 2 (Numpy Attributes)</h4>\n",
    "\n",
    "##### Print the structure of the 2-D Array"
   ]
  },
  {
   "cell_type": "code",
   "execution_count": 22,
   "metadata": {},
   "outputs": [
    {
     "data": {
      "text/plain": [
       "(1015, 2)"
      ]
     },
     "execution_count": 22,
     "metadata": {},
     "output_type": "execute_result"
    }
   ],
   "source": [
    "players_h_w.shape"
   ]
  },
  {
   "cell_type": "code",
   "execution_count": 23,
   "metadata": {},
   "outputs": [
    {
     "data": {
      "text/plain": [
       "2030"
      ]
     },
     "execution_count": 23,
     "metadata": {},
     "output_type": "execute_result"
    }
   ],
   "source": [
    "players_h_w.size"
   ]
  },
  {
   "cell_type": "markdown",
   "metadata": {},
   "source": [
    "##### Print the dimensions of the array"
   ]
  },
  {
   "cell_type": "code",
   "execution_count": 21,
   "metadata": {},
   "outputs": [
    {
     "data": {
      "text/plain": [
       "2"
      ]
     },
     "execution_count": 21,
     "metadata": {},
     "output_type": "execute_result"
    }
   ],
   "source": [
    "players_h_w.ndim"
   ]
  },
  {
   "cell_type": "markdown",
   "metadata": {},
   "source": [
    "##### Print the data type of elements in the array"
   ]
  },
  {
   "cell_type": "code",
   "execution_count": 16,
   "metadata": {},
   "outputs": [
    {
     "data": {
      "text/plain": [
       "dtype('int32')"
      ]
     },
     "execution_count": 16,
     "metadata": {},
     "output_type": "execute_result"
    }
   ],
   "source": [
    "players_h_w.dtype"
   ]
  },
  {
   "cell_type": "markdown",
   "metadata": {},
   "source": [
    "##### Print the size of a single item of the array"
   ]
  },
  {
   "cell_type": "code",
   "execution_count": 20,
   "metadata": {},
   "outputs": [
    {
     "data": {
      "text/plain": [
       "4"
      ]
     },
     "execution_count": 20,
     "metadata": {},
     "output_type": "execute_result"
    }
   ],
   "source": [
    "players_h_w.itemsize"
   ]
  },
  {
   "cell_type": "markdown",
   "metadata": {},
   "source": [
    "<h4 style = \"color : Sky blue\"> Example - 3</h4>\n",
    "\n",
    "##### Convert the heights to meters and weights to kg "
   ]
  },
  {
   "cell_type": "code",
   "execution_count": 32,
   "metadata": {},
   "outputs": [],
   "source": [
    "players_mts_weight = players_h_w*[0.025,0.453592]\n"
   ]
  },
  {
   "cell_type": "code",
   "execution_count": 33,
   "metadata": {},
   "outputs": [
    {
     "data": {
      "text/plain": [
       "array([[ 1.85   , 81.64656],\n",
       "       [ 1.85   , 97.52228],\n",
       "       [ 1.8    , 95.25432],\n",
       "       ...,\n",
       "       [ 1.875  , 92.98636],\n",
       "       [ 1.875  , 86.18248],\n",
       "       [ 1.825  , 88.45044]])"
      ]
     },
     "execution_count": 33,
     "metadata": {},
     "output_type": "execute_result"
    }
   ],
   "source": [
    "players_mts_weight"
   ]
  },
  {
   "cell_type": "markdown",
   "metadata": {},
   "source": [
    "<h4 style = \"color : Sky blue\"> Sub-Setting 2-D Arrays</h4>\n",
    "\n",
    "##### Fetch the first row from the array "
   ]
  },
  {
   "cell_type": "code",
   "execution_count": 60,
   "metadata": {},
   "outputs": [
    {
     "data": {
      "text/plain": [
       "array([ 1.85   , 81.64656])"
      ]
     },
     "execution_count": 60,
     "metadata": {},
     "output_type": "execute_result"
    }
   ],
   "source": [
    "players_mts_weight[0]"
   ]
  },
  {
   "cell_type": "markdown",
   "metadata": {},
   "source": [
    "##### Fetch the first row 2nd element from the array "
   ]
  },
  {
   "cell_type": "code",
   "execution_count": 41,
   "metadata": {},
   "outputs": [
    {
     "data": {
      "text/plain": [
       "81.64656"
      ]
     },
     "execution_count": 41,
     "metadata": {},
     "output_type": "execute_result"
    }
   ],
   "source": [
    "players_mts_weight[0][1]"
   ]
  },
  {
   "cell_type": "markdown",
   "metadata": {},
   "source": [
    "##### Fetch the first column from the array "
   ]
  },
  {
   "cell_type": "code",
   "execution_count": 67,
   "metadata": {},
   "outputs": [
    {
     "data": {
      "text/plain": [
       "array([1.85 , 1.85 , 1.8  , ..., 1.875, 1.875, 1.825])"
      ]
     },
     "execution_count": 67,
     "metadata": {},
     "output_type": "execute_result"
    }
   ],
   "source": [
    "players_mts_weight[:,0]  ##[rows,columns]"
   ]
  },
  {
   "cell_type": "markdown",
   "metadata": {},
   "source": [
    "##### Fetch the second column from the array"
   ]
  },
  {
   "cell_type": "code",
   "execution_count": 68,
   "metadata": {},
   "outputs": [
    {
     "data": {
      "text/plain": [
       "array([81.64656, 97.52228, 95.25432, ..., 92.98636, 86.18248, 88.45044])"
      ]
     },
     "execution_count": 68,
     "metadata": {},
     "output_type": "execute_result"
    }
   ],
   "source": [
    "players_mts_weight[:,1]"
   ]
  },
  {
   "cell_type": "code",
   "execution_count": 69,
   "metadata": {},
   "outputs": [
    {
     "data": {
      "text/plain": [
       "array([ 1.85   , 81.64656])"
      ]
     },
     "execution_count": 69,
     "metadata": {},
     "output_type": "execute_result"
    }
   ],
   "source": [
    "players_mts_weight[0,:]"
   ]
  },
  {
   "cell_type": "markdown",
   "metadata": {},
   "source": [
    "##### Fetch the height (1st column) of 125th player from the array "
   ]
  },
  {
   "cell_type": "code",
   "execution_count": 70,
   "metadata": {},
   "outputs": [
    {
     "data": {
      "text/plain": [
       "array([ 1.95   , 95.25432])"
      ]
     },
     "execution_count": 70,
     "metadata": {},
     "output_type": "execute_result"
    }
   ],
   "source": [
    "players_mts_weight[124]"
   ]
  },
  {
   "cell_type": "code",
   "execution_count": 71,
   "metadata": {},
   "outputs": [
    {
     "data": {
      "text/plain": [
       "1.9500000000000002"
      ]
     },
     "execution_count": 71,
     "metadata": {},
     "output_type": "execute_result"
    }
   ],
   "source": [
    "players_mts_weight[124,0]"
   ]
  },
  {
   "cell_type": "markdown",
   "metadata": {},
   "source": [
    "<h4 style = \"color : Sky blue\"> Conditional Sub-Setting Arrays</h4>\n",
    "\n",
    "##### Fetch height and weight of players with height above 1.8m\n"
   ]
  },
  {
   "cell_type": "code",
   "execution_count": 92,
   "metadata": {},
   "outputs": [
    {
     "data": {
      "text/plain": [
       "array([[ 1.85    , 81.64656 ],\n",
       "       [ 1.85    , 97.52228 ],\n",
       "       [ 1.825   , 85.275296],\n",
       "       ...,\n",
       "       [ 1.875   , 92.98636 ],\n",
       "       [ 1.875   , 86.18248 ],\n",
       "       [ 1.825   , 88.45044 ]])"
      ]
     },
     "execution_count": 92,
     "metadata": {},
     "output_type": "execute_result"
    }
   ],
   "source": [
    "tall_players = players_mts_weight[players_mts_weight[:,0]>1.8]\n",
    "tall_players"
   ]
  },
  {
   "cell_type": "code",
   "execution_count": 90,
   "metadata": {},
   "outputs": [
    {
     "data": {
      "text/plain": [
       "(1015, 2)"
      ]
     },
     "execution_count": 90,
     "metadata": {},
     "output_type": "execute_result"
    }
   ],
   "source": [
    "players_mts_weight.shape"
   ]
  },
  {
   "cell_type": "code",
   "execution_count": 91,
   "metadata": {},
   "outputs": [
    {
     "data": {
      "text/plain": [
       "(1712,)"
      ]
     },
     "execution_count": 91,
     "metadata": {},
     "output_type": "execute_result"
    }
   ],
   "source": [
    "tall_players.shape"
   ]
  },
  {
   "cell_type": "markdown",
   "metadata": {},
   "source": [
    "##### Skills Array - holds the player key skills."
   ]
  },
  {
   "cell_type": "code",
   "execution_count": 81,
   "metadata": {},
   "outputs": [
    {
     "data": {
      "text/plain": [
       "array(['Keeper', 'Batsman', 'Bowler', ..., 'Batsman', 'Bowler',\n",
       "       'Keeper-Batsman'], dtype='<U14')"
      ]
     },
     "execution_count": 81,
     "metadata": {},
     "output_type": "execute_result"
    }
   ],
   "source": [
    "skills = np.array(['Keeper', 'Batsman', 'Bowler', 'Keeper-Batsman', 'Batsman', 'Keeper-Batsman', 'Batsman', 'Batsman', 'Batsman', 'Bowler', 'Batsman', 'Batsman', 'Bowler', 'Bowler', 'Bowler', 'Batsman', 'Keeper-Batsman', 'Bowler', 'Keeper-Batsman', 'Batsman', 'Keeper', 'Keeper-Batsman', 'Keeper-Batsman', 'Batsman', 'Batsman', 'Batsman', 'Batsman', 'Keeper-Batsman', 'Batsman', 'Keeper', 'Keeper-Batsman', 'Keeper', 'Keeper-Batsman', 'Keeper-Batsman', 'Batsman', 'Bowler', 'Batsman', 'Keeper-Batsman', 'Batsman', 'Keeper', 'Batsman', 'Keeper', 'Bowler', 'Keeper-Batsman', 'Keeper', 'Bowler', 'Keeper', 'Keeper', 'Keeper', 'Keeper', 'Bowler', 'Keeper-Batsman', 'Bowler', 'Keeper-Batsman', 'Keeper-Batsman', 'Batsman', 'Keeper-Batsman', 'Batsman', 'Keeper-Batsman', 'Keeper-Batsman', 'Keeper', 'Keeper', 'Keeper-Batsman', 'Batsman', 'Batsman', 'Keeper', 'Batsman', 'Keeper-Batsman', 'Batsman', 'Batsman', 'Keeper-Batsman', 'Keeper-Batsman', 'Batsman', 'Batsman', 'Keeper-Batsman', 'Bowler', 'Bowler', 'Batsman', 'Batsman', 'Batsman', 'Bowler', 'Keeper-Batsman', 'Keeper-Batsman', 'Bowler', 'Bowler', 'Batsman', 'Batsman', 'Batsman', 'Keeper-Batsman', 'Keeper-Batsman', 'Bowler', 'Bowler', 'Keeper-Batsman', 'Batsman', 'Batsman', 'Batsman', 'Keeper-Batsman', 'Batsman', 'Batsman', 'Keeper-Batsman', 'Batsman', 'Bowler', 'Batsman', 'Batsman', 'Keeper', 'Batsman', 'Keeper-Batsman', 'Batsman', 'Batsman', 'Keeper-Batsman', 'Batsman', 'Batsman', 'Bowler', 'Keeper', 'Keeper-Batsman', 'Batsman', 'Keeper', 'Batsman', 'Batsman', 'Batsman', 'Batsman', 'Keeper-Batsman', 'Keeper-Batsman', 'Batsman', 'Keeper-Batsman', 'Batsman', 'Keeper-Batsman', 'Batsman', 'Batsman', 'Bowler', 'Batsman', 'Keeper', 'Bowler', 'Batsman', 'Keeper-Batsman', 'Batsman', 'Keeper-Batsman', 'Keeper', 'Keeper-Batsman', 'Keeper-Batsman', 'Batsman', 'Bowler', 'Keeper', 'Batsman', 'Keeper-Batsman', 'Bowler', 'Keeper-Batsman', 'Bowler', 'Bowler', 'Batsman', 'Keeper-Batsman', 'Batsman', 'Bowler', 'Keeper', 'Keeper-Batsman', 'Batsman', 'Keeper', 'Bowler', 'Keeper-Batsman', 'Keeper-Batsman', 'Keeper-Batsman', 'Keeper', 'Keeper', 'Batsman', 'Keeper-Batsman', 'Keeper', 'Keeper-Batsman', 'Batsman', 'Keeper', 'Bowler', 'Keeper-Batsman', 'Keeper', 'Keeper', 'Keeper-Batsman', 'Batsman', 'Keeper', 'Keeper-Batsman', 'Keeper-Batsman', 'Keeper-Batsman', 'Batsman', 'Keeper-Batsman', 'Batsman', 'Keeper-Batsman', 'Keeper-Batsman', 'Bowler', 'Keeper-Batsman', 'Keeper-Batsman', 'Keeper-Batsman', 'Batsman', 'Batsman', 'Bowler', 'Keeper-Batsman', 'Batsman', 'Batsman', 'Keeper-Batsman', 'Batsman', 'Bowler', 'Bowler', 'Keeper-Batsman', 'Bowler', 'Keeper', 'Batsman', 'Bowler', 'Bowler', 'Keeper-Batsman', 'Keeper-Batsman', 'Bowler', 'Keeper-Batsman', 'Keeper', 'Keeper-Batsman', 'Batsman', 'Keeper-Batsman', 'Keeper-Batsman', 'Batsman', 'Batsman', 'Keeper', 'Keeper-Batsman', 'Batsman', 'Keeper', 'Keeper', 'Keeper-Batsman', 'Batsman', 'Keeper-Batsman', 'Keeper-Batsman', 'Batsman', 'Bowler', 'Keeper-Batsman', 'Keeper-Batsman', 'Batsman', 'Bowler', 'Bowler', 'Bowler', 'Bowler', 'Bowler', 'Batsman', 'Keeper-Batsman', 'Keeper-Batsman', 'Bowler', 'Batsman', 'Keeper', 'Batsman', 'Keeper', 'Bowler', 'Bowler', 'Keeper', 'Batsman', 'Keeper-Batsman', 'Batsman', 'Keeper-Batsman', 'Keeper-Batsman', 'Batsman', 'Batsman', 'Bowler', 'Bowler', 'Keeper-Batsman', 'Keeper-Batsman', 'Keeper-Batsman', 'Batsman', 'Batsman', 'Keeper', 'Keeper-Batsman', 'Batsman', 'Batsman', 'Keeper-Batsman', 'Keeper-Batsman', 'Keeper-Batsman', 'Batsman', 'Batsman', 'Batsman', 'Keeper-Batsman', 'Batsman', 'Bowler', 'Bowler', 'Keeper-Batsman', 'Keeper-Batsman', 'Batsman', 'Keeper', 'Bowler', 'Keeper-Batsman', 'Keeper-Batsman', 'Keeper-Batsman', 'Keeper', 'Keeper-Batsman', 'Batsman', 'Keeper-Batsman', 'Bowler', 'Bowler', 'Keeper', 'Bowler', 'Keeper-Batsman', 'Batsman', 'Batsman', 'Keeper', 'Bowler', 'Bowler', 'Batsman', 'Keeper-Batsman', 'Bowler', 'Batsman', 'Batsman', 'Batsman', 'Keeper-Batsman', 'Keeper-Batsman', 'Keeper-Batsman', 'Batsman', 'Keeper-Batsman', 'Bowler', 'Batsman', 'Batsman', 'Batsman', 'Bowler', 'Batsman', 'Batsman', 'Keeper-Batsman', 'Batsman', 'Keeper-Batsman', 'Batsman', 'Batsman', 'Bowler', 'Keeper-Batsman', 'Keeper-Batsman', 'Batsman', 'Bowler', 'Keeper-Batsman', 'Keeper-Batsman', 'Batsman', 'Batsman', 'Batsman', 'Keeper-Batsman', 'Batsman', 'Keeper-Batsman', 'Bowler', 'Keeper-Batsman', 'Keeper-Batsman', 'Batsman', 'Keeper-Batsman', 'Bowler', 'Keeper-Batsman', 'Keeper-Batsman', 'Keeper', 'Batsman', 'Batsman', 'Batsman', 'Keeper', 'Batsman', 'Bowler', 'Keeper-Batsman', 'Keeper-Batsman', 'Batsman', 'Bowler', 'Keeper', 'Batsman', 'Keeper-Batsman', 'Bowler', 'Batsman', 'Bowler', 'Bowler', 'Bowler', 'Batsman', 'Keeper', 'Bowler', 'Bowler', 'Batsman', 'Bowler', 'Keeper-Batsman', 'Keeper-Batsman', 'Keeper-Batsman', 'Bowler', 'Keeper', 'Keeper-Batsman', 'Keeper-Batsman', 'Keeper-Batsman', 'Keeper-Batsman', 'Keeper', 'Bowler', 'Keeper', 'Keeper-Batsman', 'Keeper-Batsman', 'Batsman', 'Keeper', 'Keeper-Batsman', 'Keeper-Batsman', 'Keeper-Batsman', 'Bowler', 'Keeper-Batsman', 'Keeper-Batsman', 'Keeper', 'Keeper-Batsman', 'Keeper-Batsman', 'Keeper-Batsman', 'Keeper', 'Keeper-Batsman', 'Keeper', 'Bowler', 'Batsman', 'Bowler', 'Batsman', 'Bowler', 'Keeper-Batsman', 'Keeper-Batsman', 'Keeper-Batsman', 'Keeper', 'Keeper', 'Keeper', 'Batsman', 'Bowler', 'Batsman', 'Keeper-Batsman', 'Batsman', 'Bowler', 'Keeper', 'Batsman', 'Keeper-Batsman', 'Batsman', 'Batsman', 'Keeper-Batsman', 'Bowler', 'Keeper', 'Batsman', 'Bowler', 'Keeper', 'Keeper', 'Batsman', 'Bowler', 'Bowler', 'Batsman', 'Keeper', 'Keeper', 'Keeper-Batsman', 'Batsman', 'Bowler', 'Keeper-Batsman', 'Bowler', 'Keeper-Batsman', 'Keeper-Batsman', 'Bowler', 'Keeper-Batsman', 'Batsman', 'Keeper-Batsman', 'Keeper-Batsman', 'Batsman', 'Keeper-Batsman', 'Bowler', 'Keeper', 'Keeper-Batsman', 'Keeper-Batsman', 'Keeper', 'Bowler', 'Keeper-Batsman', 'Keeper-Batsman', 'Keeper', 'Keeper-Batsman', 'Bowler', 'Batsman', 'Bowler', 'Bowler', 'Keeper', 'Keeper-Batsman', 'Bowler', 'Keeper-Batsman', 'Bowler', 'Keeper-Batsman', 'Keeper', 'Keeper-Batsman', 'Keeper-Batsman', 'Bowler', 'Bowler', 'Batsman', 'Bowler', 'Keeper', 'Batsman', 'Keeper-Batsman', 'Bowler', 'Keeper-Batsman', 'Batsman', 'Batsman', 'Keeper-Batsman', 'Batsman', 'Keeper', 'Keeper-Batsman', 'Batsman', 'Bowler', 'Bowler', 'Batsman', 'Batsman', 'Batsman', 'Keeper', 'Keeper', 'Keeper-Batsman', 'Bowler', 'Batsman', 'Keeper', 'Keeper-Batsman', 'Batsman', 'Keeper', 'Batsman', 'Batsman', 'Keeper', 'Batsman', 'Keeper-Batsman', 'Bowler', 'Keeper-Batsman', 'Batsman', 'Batsman', 'Bowler', 'Batsman', 'Keeper', 'Bowler', 'Keeper', 'Bowler', 'Batsman', 'Keeper', 'Keeper', 'Keeper-Batsman', 'Keeper-Batsman', 'Batsman', 'Batsman', 'Keeper-Batsman', 'Keeper', 'Bowler', 'Batsman', 'Keeper', 'Bowler', 'Keeper', 'Keeper-Batsman', 'Keeper-Batsman', 'Batsman', 'Batsman', 'Batsman', 'Keeper-Batsman', 'Batsman', 'Batsman', 'Keeper', 'Batsman', 'Keeper-Batsman', 'Batsman', 'Keeper-Batsman', 'Keeper', 'Batsman', 'Bowler', 'Keeper', 'Bowler', 'Batsman', 'Batsman', 'Bowler', 'Batsman', 'Batsman', 'Bowler', 'Bowler', 'Bowler', 'Batsman', 'Keeper', 'Keeper-Batsman', 'Keeper-Batsman', 'Batsman', 'Keeper-Batsman', 'Keeper', 'Keeper-Batsman', 'Batsman', 'Batsman', 'Batsman', 'Bowler', 'Keeper-Batsman', 'Bowler', 'Keeper-Batsman', 'Bowler', 'Batsman', 'Batsman', 'Keeper-Batsman', 'Batsman', 'Batsman', 'Keeper-Batsman', 'Keeper-Batsman', 'Keeper', 'Batsman', 'Bowler', 'Keeper', 'Bowler', 'Bowler', 'Batsman', 'Keeper-Batsman', 'Keeper', 'Keeper-Batsman', 'Batsman', 'Batsman', 'Keeper', 'Keeper', 'Keeper-Batsman', 'Keeper-Batsman', 'Batsman', 'Keeper-Batsman', 'Batsman', 'Batsman', 'Batsman', 'Batsman', 'Keeper', 'Batsman', 'Keeper-Batsman', 'Batsman', 'Keeper-Batsman', 'Keeper', 'Bowler', 'Batsman', 'Keeper-Batsman', 'Batsman', 'Bowler', 'Bowler', 'Keeper-Batsman', 'Keeper-Batsman', 'Keeper-Batsman', 'Batsman', 'Keeper', 'Keeper-Batsman', 'Bowler', 'Batsman', 'Keeper-Batsman', 'Bowler', 'Keeper', 'Batsman', 'Keeper-Batsman', 'Batsman', 'Keeper-Batsman', 'Bowler', 'Bowler', 'Batsman', 'Bowler', 'Keeper-Batsman', 'Keeper-Batsman', 'Batsman', 'Bowler', 'Batsman', 'Batsman', 'Bowler', 'Keeper-Batsman', 'Keeper', 'Bowler', 'Batsman', 'Keeper-Batsman', 'Batsman', 'Bowler', 'Keeper-Batsman', 'Keeper-Batsman', 'Keeper-Batsman', 'Keeper', 'Keeper-Batsman', 'Batsman', 'Keeper', 'Batsman', 'Batsman', 'Keeper', 'Batsman', 'Batsman', 'Keeper-Batsman', 'Batsman', 'Keeper-Batsman', 'Keeper-Batsman', 'Batsman', 'Keeper-Batsman', 'Bowler', 'Batsman', 'Keeper-Batsman', 'Keeper-Batsman', 'Keeper', 'Keeper-Batsman', 'Batsman', 'Batsman', 'Keeper', 'Keeper', 'Batsman', 'Keeper-Batsman', 'Keeper-Batsman', 'Bowler', 'Keeper', 'Keeper-Batsman', 'Keeper-Batsman', 'Keeper-Batsman', 'Keeper', 'Bowler', 'Bowler', 'Keeper-Batsman', 'Bowler', 'Keeper-Batsman', 'Batsman', 'Keeper-Batsman', 'Keeper-Batsman', 'Bowler', 'Batsman', 'Keeper', 'Keeper-Batsman', 'Batsman', 'Keeper-Batsman', 'Batsman', 'Bowler', 'Bowler', 'Keeper', 'Batsman', 'Keeper-Batsman', 'Bowler', 'Keeper-Batsman', 'Keeper-Batsman', 'Batsman', 'Bowler', 'Bowler', 'Keeper-Batsman', 'Batsman', 'Batsman', 'Keeper-Batsman', 'Bowler', 'Keeper-Batsman', 'Batsman', 'Bowler', 'Batsman', 'Keeper-Batsman', 'Keeper-Batsman', 'Keeper-Batsman', 'Bowler', 'Keeper', 'Keeper-Batsman', 'Keeper-Batsman', 'Batsman', 'Batsman', 'Bowler', 'Batsman', 'Bowler', 'Keeper-Batsman', 'Batsman', 'Bowler', 'Bowler', 'Keeper', 'Bowler', 'Keeper-Batsman', 'Bowler', 'Batsman', 'Bowler', 'Keeper-Batsman', 'Keeper-Batsman', 'Keeper-Batsman', 'Keeper', 'Bowler', 'Keeper-Batsman', 'Keeper-Batsman', 'Keeper-Batsman', 'Bowler', 'Bowler', 'Bowler', 'Batsman', 'Keeper', 'Keeper', 'Keeper-Batsman', 'Bowler', 'Keeper', 'Keeper-Batsman', 'Bowler', 'Batsman', 'Batsman', 'Keeper-Batsman', 'Keeper', 'Batsman', 'Bowler', 'Batsman', 'Keeper-Batsman', 'Batsman', 'Batsman', 'Batsman', 'Keeper-Batsman', 'Bowler', 'Keeper', 'Keeper', 'Keeper-Batsman', 'Batsman', 'Keeper-Batsman', 'Keeper-Batsman', 'Keeper-Batsman', 'Batsman', 'Keeper', 'Batsman', 'Keeper-Batsman', 'Keeper-Batsman', 'Keeper-Batsman', 'Bowler', 'Bowler', 'Keeper', 'Keeper-Batsman', 'Keeper-Batsman', 'Batsman', 'Batsman', 'Keeper-Batsman', 'Keeper-Batsman', 'Batsman', 'Batsman', 'Keeper-Batsman', 'Bowler', 'Batsman', 'Keeper-Batsman', 'Batsman', 'Batsman', 'Batsman', 'Bowler', 'Keeper', 'Keeper-Batsman', 'Keeper-Batsman', 'Keeper-Batsman', 'Bowler', 'Batsman', 'Batsman', 'Bowler', 'Batsman', 'Batsman', 'Keeper-Batsman', 'Batsman', 'Keeper-Batsman', 'Batsman', 'Bowler', 'Keeper-Batsman', 'Keeper-Batsman', 'Batsman', 'Batsman', 'Batsman', 'Keeper-Batsman', 'Batsman', 'Batsman', 'Keeper-Batsman', 'Batsman', 'Batsman', 'Batsman', 'Keeper-Batsman', 'Keeper-Batsman', 'Bowler', 'Keeper-Batsman', 'Bowler', 'Bowler', 'Keeper-Batsman', 'Keeper-Batsman', 'Batsman', 'Batsman', 'Bowler', 'Bowler', 'Keeper', 'Bowler', 'Keeper', 'Batsman', 'Batsman', 'Keeper', 'Keeper-Batsman', 'Keeper', 'Bowler', 'Keeper', 'Keeper-Batsman', 'Batsman', 'Keeper', 'Batsman', 'Keeper-Batsman', 'Keeper-Batsman', 'Keeper-Batsman', 'Keeper', 'Batsman', 'Keeper', 'Keeper-Batsman', 'Keeper-Batsman', 'Keeper-Batsman', 'Keeper-Batsman', 'Keeper', 'Bowler', 'Batsman', 'Batsman', 'Keeper-Batsman', 'Keeper', 'Keeper', 'Keeper', 'Keeper-Batsman', 'Keeper-Batsman', 'Batsman', 'Keeper-Batsman', 'Keeper-Batsman', 'Keeper', 'Keeper-Batsman', 'Bowler', 'Keeper-Batsman', 'Batsman', 'Keeper-Batsman', 'Keeper-Batsman', 'Keeper-Batsman', 'Batsman', 'Keeper-Batsman', 'Batsman', 'Keeper-Batsman', 'Batsman', 'Keeper-Batsman', 'Keeper-Batsman', 'Batsman', 'Batsman', 'Keeper-Batsman', 'Keeper-Batsman', 'Bowler', 'Batsman', 'Keeper-Batsman', 'Batsman', 'Bowler', 'Batsman', 'Keeper-Batsman', 'Bowler', 'Batsman', 'Keeper-Batsman', 'Keeper', 'Keeper-Batsman', 'Keeper-Batsman', 'Bowler', 'Keeper-Batsman', 'Batsman', 'Keeper-Batsman', 'Keeper', 'Bowler', 'Keeper-Batsman', 'Bowler', 'Batsman', 'Bowler', 'Bowler', 'Keeper', 'Keeper-Batsman', 'Batsman', 'Keeper-Batsman', 'Bowler', 'Keeper-Batsman', 'Bowler', 'Batsman', 'Batsman', 'Keeper-Batsman', 'Keeper-Batsman', 'Keeper-Batsman', 'Bowler', 'Keeper', 'Bowler', 'Keeper-Batsman', 'Batsman', 'Batsman', 'Batsman', 'Keeper-Batsman', 'Bowler', 'Bowler', 'Keeper-Batsman', 'Keeper-Batsman', 'Batsman', 'Keeper-Batsman', 'Keeper-Batsman', 'Keeper-Batsman', 'Keeper', 'Keeper-Batsman', 'Batsman', 'Keeper-Batsman', 'Keeper-Batsman', 'Bowler', 'Keeper-Batsman', 'Batsman', 'Batsman', 'Batsman', 'Batsman', 'Bowler', 'Batsman', 'Batsman', 'Keeper-Batsman', 'Bowler', 'Batsman', 'Keeper-Batsman', 'Batsman', 'Batsman', 'Batsman', 'Batsman', 'Batsman', 'Keeper', 'Keeper-Batsman', 'Batsman', 'Bowler', 'Keeper-Batsman', 'Keeper-Batsman', 'Batsman', 'Batsman', 'Batsman', 'Bowler', 'Batsman', 'Keeper', 'Bowler', 'Bowler', 'Keeper', 'Bowler', 'Bowler', 'Keeper', 'Batsman', 'Keeper-Batsman', 'Batsman', 'Keeper-Batsman', 'Bowler', 'Keeper-Batsman', 'Keeper-Batsman', 'Batsman', 'Keeper-Batsman', 'Batsman', 'Keeper-Batsman', 'Keeper-Batsman', 'Batsman', 'Keeper-Batsman', 'Keeper-Batsman', 'Bowler', 'Bowler', 'Bowler', 'Batsman', 'Bowler', 'Keeper-Batsman', 'Keeper-Batsman', 'Batsman', 'Bowler', 'Keeper', 'Keeper-Batsman', 'Batsman', 'Bowler', 'Keeper-Batsman'])\n",
    "skills"
   ]
  },
  {
   "cell_type": "markdown",
   "metadata": {},
   "source": [
    "##### Fetch Heights of the Batsmen"
   ]
  },
  {
   "cell_type": "code",
   "execution_count": 93,
   "metadata": {},
   "outputs": [
    {
     "data": {
      "text/plain": [
       "(1015,)"
      ]
     },
     "execution_count": 93,
     "metadata": {},
     "output_type": "execute_result"
    }
   ],
   "source": [
    "skills.shape"
   ]
  },
  {
   "cell_type": "code",
   "execution_count": 96,
   "metadata": {},
   "outputs": [],
   "source": [
    "batsmen= players_mts_weight[skills ==\"Batsman\"]"
   ]
  },
  {
   "cell_type": "code",
   "execution_count": 97,
   "metadata": {},
   "outputs": [
    {
     "data": {
      "text/plain": [
       "array([[  1.85    ,  97.52228 ],\n",
       "       [  1.825   ,  85.275296],\n",
       "       [  1.725   ,  94.800728],\n",
       "       [  1.775   ,  90.7184  ],\n",
       "       [  1.9     , 104.779752],\n",
       "       [  1.825   ,  85.275296],\n",
       "       [  1.825   ,  81.64656 ],\n",
       "       [  1.75    ,  83.91452 ],\n",
       "       [  1.975   , 104.32616 ],\n",
       "       [  1.8     ,  81.64656 ],\n",
       "       [  1.775   ,  87.089664],\n",
       "       [  1.875   , 102.0582  ],\n",
       "       [  1.925   ,  92.079176],\n",
       "       [  1.825   ,  82.553744],\n",
       "       [  1.875   , 111.13004 ],\n",
       "       [  1.85    ,  97.52228 ],\n",
       "       [  1.775   ,  79.3786  ],\n",
       "       [  1.825   ,  90.7184  ],\n",
       "       [  1.85    ,  92.98636 ],\n",
       "       [  1.9     ,  88.45044 ],\n",
       "       [  1.875   ,  95.25432 ],\n",
       "       [  1.9     ,  86.18248 ],\n",
       "       [  1.8     ,  81.64656 ],\n",
       "       [  1.875   ,  95.25432 ],\n",
       "       [  1.825   ,  99.79024 ],\n",
       "       [  1.75    ,  81.64656 ],\n",
       "       [  1.75    ,  86.18248 ],\n",
       "       [  1.775   ,  83.91452 ],\n",
       "       [  1.8     ,  83.91452 ],\n",
       "       [  1.875   ,  90.7184  ],\n",
       "       [  1.95    , 106.59412 ],\n",
       "       [  1.775   , 113.398   ],\n",
       "       [  1.825   ,  95.25432 ],\n",
       "       [  1.825   ,  88.45044 ],\n",
       "       [  1.9     ,  92.98636 ],\n",
       "       [  1.85    ,  99.79024 ],\n",
       "       [  1.825   ,  77.11064 ],\n",
       "       [  1.8     ,  83.91452 ],\n",
       "       [  1.825   ,  99.79024 ],\n",
       "       [  1.8     ,  81.64656 ],\n",
       "       [  1.825   ,  99.79024 ],\n",
       "       [  1.8     ,  81.64656 ],\n",
       "       [  1.875   ,  95.25432 ],\n",
       "       [  1.875   ,  97.52228 ],\n",
       "       [  1.8     ,  96.615096],\n",
       "       [  1.8     ,  81.64656 ],\n",
       "       [  1.925   , 106.59412 ],\n",
       "       [  1.925   , 100.697424],\n",
       "       [  1.875   ,  95.25432 ],\n",
       "       [  1.9     , 104.32616 ],\n",
       "       [  2.      ,  99.79024 ],\n",
       "       [  1.875   ,  90.7184  ],\n",
       "       [  1.825   ,  87.996848],\n",
       "       [  1.85    ,  86.18248 ],\n",
       "       [  1.875   , 108.86208 ],\n",
       "       [  1.775   ,  89.811216],\n",
       "       [  1.9     ,  95.25432 ],\n",
       "       [  1.85    ,  86.18248 ],\n",
       "       [  1.825   ,  77.11064 ],\n",
       "       [  1.825   ,  81.64656 ],\n",
       "       [  1.775   ,  86.18248 ],\n",
       "       [  1.825   ,  86.18248 ],\n",
       "       [  1.825   ,  79.3786  ],\n",
       "       [  1.8     ,  92.98636 ],\n",
       "       [  1.875   ,  97.52228 ],\n",
       "       [  1.75    ,  81.64656 ],\n",
       "       [  1.775   ,  77.11064 ],\n",
       "       [  1.8     ,  92.98636 ],\n",
       "       [  1.875   , 102.0582  ],\n",
       "       [  1.825   ,  81.64656 ],\n",
       "       [  1.9     , 107.501304],\n",
       "       [  1.875   ,  97.52228 ],\n",
       "       [  1.9     , 106.59412 ],\n",
       "       [  1.8     ,  86.18248 ],\n",
       "       [  1.825   ,  94.347136],\n",
       "       [  1.875   ,  95.25432 ],\n",
       "       [  1.85    ,  86.18248 ],\n",
       "       [  1.775   ,  77.11064 ],\n",
       "       [  1.925   , 102.0582  ],\n",
       "       [  1.95    , 104.32616 ],\n",
       "       [  1.875   , 102.511792],\n",
       "       [  1.875   ,  99.336648],\n",
       "       [  1.9     , 102.0582  ],\n",
       "       [  1.8     ,  79.832192],\n",
       "       [  1.8     ,  81.64656 ],\n",
       "       [  1.825   ,  99.79024 ],\n",
       "       [  1.85    ,  86.18248 ],\n",
       "       [  1.85    ,  92.98636 ],\n",
       "       [  1.875   ,  92.98636 ],\n",
       "       [  1.825   ,  95.707912],\n",
       "       [  1.85    ,  90.7184  ],\n",
       "       [  1.925   ,  95.25432 ],\n",
       "       [  1.95    ,  99.79024 ],\n",
       "       [  1.95    ,  95.25432 ],\n",
       "       [  1.85    ,  91.625584],\n",
       "       [  1.95    , 102.0582  ],\n",
       "       [  1.85    ,  99.79024 ],\n",
       "       [  1.8     ,  83.91452 ],\n",
       "       [  1.9     ,  88.45044 ],\n",
       "       [  1.825   ,  99.336648],\n",
       "       [  1.825   ,  88.45044 ],\n",
       "       [  1.925   ,  99.79024 ],\n",
       "       [  1.925   , 106.59412 ],\n",
       "       [  1.775   ,  81.64656 ],\n",
       "       [  1.95    , 104.32616 ],\n",
       "       [  1.75    ,  86.18248 ],\n",
       "       [  1.85    ,  86.18248 ],\n",
       "       [  1.8     ,  90.7184  ],\n",
       "       [  1.825   ,  83.460928],\n",
       "       [  1.875   ,  90.7184  ],\n",
       "       [  1.85    ,  99.336648],\n",
       "       [  1.825   ,  90.7184  ],\n",
       "       [  1.85    ,  99.79024 ],\n",
       "       [  1.825   ,  72.57472 ],\n",
       "       [  1.95    ,  90.7184  ],\n",
       "       [  1.9     ,  97.068688],\n",
       "       [  1.825   ,  90.7184  ],\n",
       "       [  1.875   ,  81.64656 ],\n",
       "       [  1.95    , 106.59412 ],\n",
       "       [  1.925   , 108.86208 ],\n",
       "       [  1.8     ,  83.91452 ],\n",
       "       [  1.725   ,  74.84268 ],\n",
       "       [  1.85    ,  83.91452 ],\n",
       "       [  1.75    ,  77.11064 ],\n",
       "       [  1.85    ,  95.25432 ],\n",
       "       [  1.9     ,  92.98636 ],\n",
       "       [  1.875   ,  90.7184  ],\n",
       "       [  1.825   ,  86.18248 ],\n",
       "       [  1.825   ,  72.57472 ],\n",
       "       [  1.825   ,  81.64656 ],\n",
       "       [  1.85    ,  81.64656 ],\n",
       "       [  1.85    ,  90.7184  ],\n",
       "       [  1.75    ,  86.18248 ],\n",
       "       [  1.85    , 102.965384],\n",
       "       [  1.875   ,  90.264808],\n",
       "       [  1.8     ,  83.91452 ],\n",
       "       [  1.925   , 108.86208 ],\n",
       "       [  1.825   , 102.0582  ],\n",
       "       [  1.9     , 104.32616 ],\n",
       "       [  1.825   ,  90.7184  ],\n",
       "       [  1.875   , 111.13004 ],\n",
       "       [  1.85    ,  86.18248 ],\n",
       "       [  1.825   ,  95.25432 ],\n",
       "       [  1.775   ,  90.7184  ],\n",
       "       [  1.9     ,  92.98636 ],\n",
       "       [  1.875   ,  95.25432 ],\n",
       "       [  1.825   ,  77.11064 ],\n",
       "       [  1.825   ,  81.64656 ],\n",
       "       [  1.9     ,  95.25432 ],\n",
       "       [  1.825   ,  93.439952],\n",
       "       [  1.875   ,  88.45044 ],\n",
       "       [  1.875   ,  90.7184  ],\n",
       "       [  1.925   ,  90.7184  ],\n",
       "       [  1.85    ,  92.98636 ],\n",
       "       [  1.775   ,  95.25432 ],\n",
       "       [  1.85    ,  90.7184  ],\n",
       "       [  1.85    ,  92.98636 ],\n",
       "       [  1.875   ,  86.18248 ],\n",
       "       [  1.8     ,  92.98636 ],\n",
       "       [  1.825   ,  79.3786  ],\n",
       "       [  1.9     ,  99.79024 ],\n",
       "       [  1.925   , 111.13004 ],\n",
       "       [  1.825   ,  81.64656 ],\n",
       "       [  1.75    ,  88.45044 ],\n",
       "       [  1.825   ,  97.52228 ],\n",
       "       [  1.85    ,  81.64656 ],\n",
       "       [  1.925   ,  86.18248 ],\n",
       "       [  1.875   ,  86.18248 ],\n",
       "       [  1.825   ,  95.25432 ],\n",
       "       [  1.925   , 115.66596 ],\n",
       "       [  1.925   , 104.32616 ],\n",
       "       [  1.85    ,  92.98636 ],\n",
       "       [  1.85    ,  97.52228 ],\n",
       "       [  1.875   ,  99.79024 ],\n",
       "       [  1.775   ,  89.357624],\n",
       "       [  1.75    ,  84.821704],\n",
       "       [  1.975   , 111.13004 ],\n",
       "       [  1.85    ,  90.7184  ],\n",
       "       [  1.8     ,  90.7184  ],\n",
       "       [  2.05    , 104.779752],\n",
       "       [  1.85    ,  74.84268 ],\n",
       "       [  1.85    , 103.418976],\n",
       "       [  1.8     ,  97.52228 ],\n",
       "       [  1.9     , 115.212368],\n",
       "       [  1.825   ,  81.64656 ],\n",
       "       [  1.8     ,  97.52228 ],\n",
       "       [  1.8     ,  77.11064 ],\n",
       "       [  1.75    ,  74.84268 ],\n",
       "       [  1.775   ,  77.11064 ],\n",
       "       [  1.875   , 101.604608],\n",
       "       [  1.9     , 108.408488],\n",
       "       [  1.9     ,  95.25432 ],\n",
       "       [  1.95    ,  99.79024 ],\n",
       "       [  1.875   ,  90.7184  ],\n",
       "       [  1.9     ,  88.45044 ],\n",
       "       [  1.8     , 104.32616 ],\n",
       "       [  1.825   ,  99.79024 ],\n",
       "       [  1.75    ,  87.089664],\n",
       "       [  1.85    ,  92.98636 ],\n",
       "       [  1.825   ,  92.98636 ],\n",
       "       [  1.825   ,  83.91452 ],\n",
       "       [  1.875   ,  92.98636 ],\n",
       "       [  1.75    ,  81.64656 ],\n",
       "       [  1.975   , 108.86208 ],\n",
       "       [  1.875   ,  97.52228 ],\n",
       "       [  1.875   ,  88.45044 ],\n",
       "       [  1.825   ,  97.52228 ],\n",
       "       [  1.75    ,  88.45044 ],\n",
       "       [  1.775   ,  88.45044 ],\n",
       "       [  1.875   ,  95.25432 ],\n",
       "       [  1.8     ,  81.64656 ],\n",
       "       [  1.8     ,  81.64656 ],\n",
       "       [  1.9     , 106.59412 ],\n",
       "       [  1.875   ,  90.7184  ],\n",
       "       [  1.725   ,  81.64656 ],\n",
       "       [  1.8     ,  92.079176],\n",
       "       [  1.9     ,  90.7184  ],\n",
       "       [  1.775   ,  86.18248 ],\n",
       "       [  1.875   ,  77.11064 ],\n",
       "       [  1.925   ,  97.52228 ],\n",
       "       [  1.75    ,  81.64656 ],\n",
       "       [  1.8     ,  84.821704],\n",
       "       [  1.775   ,  81.64656 ],\n",
       "       [  1.85    ,  95.25432 ],\n",
       "       [  1.9     ,  87.543256],\n",
       "       [  1.8     ,  90.7184  ],\n",
       "       [  1.85    ,  77.11064 ],\n",
       "       [  1.8     ,  88.45044 ],\n",
       "       [  1.775   ,  86.18248 ],\n",
       "       [  1.75    ,  81.64656 ],\n",
       "       [  1.8     ,  77.11064 ],\n",
       "       [  1.85    ,  95.25432 ],\n",
       "       [  1.85    ,  99.79024 ],\n",
       "       [  1.875   ,  95.25432 ],\n",
       "       [  1.85    , 111.13004 ],\n",
       "       [  1.775   , 100.243832],\n",
       "       [  1.775   ,  83.91452 ],\n",
       "       [  1.9     , 104.32616 ],\n",
       "       [  1.775   ,  79.3786  ],\n",
       "       [  1.85    ,  90.7184  ],\n",
       "       [  1.8     ,  90.7184  ],\n",
       "       [  1.9     , 113.398   ],\n",
       "       [  1.95    ,  95.25432 ],\n",
       "       [  1.8     ,  97.52228 ],\n",
       "       [  1.9     ,  97.52228 ],\n",
       "       [  1.75    ,  89.811216],\n",
       "       [  1.7     ,  75.749864],\n",
       "       [  1.775   ,  86.18248 ],\n",
       "       [  1.925   ,  97.52228 ],\n",
       "       [  1.725   ,  72.57472 ],\n",
       "       [  1.875   ,  79.3786  ],\n",
       "       [  1.875   ,  86.18248 ],\n",
       "       [  1.9     , 108.86208 ],\n",
       "       [  1.8     ,  79.3786  ],\n",
       "       [  1.925   , 113.398   ],\n",
       "       [  1.75    ,  86.18248 ],\n",
       "       [  1.975   ,  86.18248 ],\n",
       "       [  1.85    ,  77.11064 ],\n",
       "       [  1.7     ,  68.0388  ],\n",
       "       [  1.875   ,  99.79024 ],\n",
       "       [  1.8     , 117.93392 ],\n",
       "       [  1.8     ,  88.45044 ],\n",
       "       [  1.825   ,  86.18248 ],\n",
       "       [  1.85    ,  81.64656 ],\n",
       "       [  1.8     ,  88.45044 ],\n",
       "       [  1.875   ,  99.336648],\n",
       "       [  1.8     , 102.0582  ],\n",
       "       [  1.825   ,  96.161504],\n",
       "       [  1.9     ,  86.18248 ],\n",
       "       [  1.85    ,  96.161504],\n",
       "       [  1.875   ,  95.25432 ],\n",
       "       [  1.9     ,  90.7184  ],\n",
       "       [  1.85    ,  99.79024 ],\n",
       "       [  1.8     ,  83.91452 ],\n",
       "       [  1.825   , 104.779752],\n",
       "       [  1.8     ,  83.91452 ],\n",
       "       [  1.825   ,  81.64656 ],\n",
       "       [  1.8     ,  99.79024 ],\n",
       "       [  1.825   ,  88.904032],\n",
       "       [  1.75    ,  72.57472 ],\n",
       "       [  1.8     ,  92.98636 ],\n",
       "       [  1.875   ,  95.25432 ],\n",
       "       [  1.825   ,  90.7184  ],\n",
       "       [  1.9     , 116.573144],\n",
       "       [  1.925   ,  92.98636 ],\n",
       "       [  1.925   ,  94.347136],\n",
       "       [  1.875   ,  97.52228 ],\n",
       "       [  1.875   ,  95.25432 ],\n",
       "       [  1.9     ,  92.079176],\n",
       "       [  1.8     ,  95.25432 ],\n",
       "       [  1.825   ,  90.7184  ],\n",
       "       [  1.85    ,  92.98636 ],\n",
       "       [  1.8     ,  86.18248 ],\n",
       "       [  1.85    , 102.0582  ],\n",
       "       [  1.85    ,  93.893544],\n",
       "       [  1.875   ,  96.161504],\n",
       "       [  1.775   ,  95.25432 ],\n",
       "       [  1.9     ,  86.18248 ],\n",
       "       [  1.825   ,  97.52228 ],\n",
       "       [  1.7     ,  88.904032],\n",
       "       [  1.8     ,  79.3786  ],\n",
       "       [  1.725   ,  79.3786  ],\n",
       "       [  1.825   ,  92.98636 ],\n",
       "       [  1.875   ,  95.25432 ],\n",
       "       [  1.85    ,  89.357624],\n",
       "       [  1.85    , 103.418976],\n",
       "       [  1.85    ,  86.18248 ],\n",
       "       [  1.825   ,  92.532768],\n",
       "       [  1.85    ,  74.84268 ],\n",
       "       [  1.875   ,  97.975872],\n",
       "       [  1.85    ,  95.25432 ],\n",
       "       [  1.825   ,  97.52228 ],\n",
       "       [  1.9     , 103.872568],\n",
       "       [  1.95    , 108.86208 ],\n",
       "       [  1.825   ,  92.98636 ],\n",
       "       [  1.875   , 102.0582  ],\n",
       "       [  1.675   ,  81.64656 ],\n",
       "       [  1.75    ,  73.935496],\n",
       "       [  1.75    ,  79.3786  ],\n",
       "       [  1.975   ,  92.98636 ],\n",
       "       [  1.9     ,  95.707912],\n",
       "       [  1.8     ,  81.64656 ],\n",
       "       [  1.875   ,  92.98636 ]])"
      ]
     },
     "execution_count": 97,
     "metadata": {},
     "output_type": "execute_result"
    }
   ],
   "source": [
    "batsmen"
   ]
  },
  {
   "cell_type": "code",
   "execution_count": 98,
   "metadata": {},
   "outputs": [
    {
     "data": {
      "text/plain": [
       "(323, 2)"
      ]
     },
     "execution_count": 98,
     "metadata": {},
     "output_type": "execute_result"
    }
   ],
   "source": [
    "batsmen.shape"
   ]
  },
  {
   "cell_type": "code",
   "execution_count": 99,
   "metadata": {},
   "outputs": [
    {
     "data": {
      "text/plain": [
       "array([1.85 , 1.825, 1.725, 1.775, 1.9  , 1.825, 1.825, 1.75 , 1.975,\n",
       "       1.8  , 1.775, 1.875, 1.925, 1.825, 1.875, 1.85 , 1.775, 1.825,\n",
       "       1.85 , 1.9  , 1.875, 1.9  , 1.8  , 1.875, 1.825, 1.75 , 1.75 ,\n",
       "       1.775, 1.8  , 1.875, 1.95 , 1.775, 1.825, 1.825, 1.9  , 1.85 ,\n",
       "       1.825, 1.8  , 1.825, 1.8  , 1.825, 1.8  , 1.875, 1.875, 1.8  ,\n",
       "       1.8  , 1.925, 1.925, 1.875, 1.9  , 2.   , 1.875, 1.825, 1.85 ,\n",
       "       1.875, 1.775, 1.9  , 1.85 , 1.825, 1.825, 1.775, 1.825, 1.825,\n",
       "       1.8  , 1.875, 1.75 , 1.775, 1.8  , 1.875, 1.825, 1.9  , 1.875,\n",
       "       1.9  , 1.8  , 1.825, 1.875, 1.85 , 1.775, 1.925, 1.95 , 1.875,\n",
       "       1.875, 1.9  , 1.8  , 1.8  , 1.825, 1.85 , 1.85 , 1.875, 1.825,\n",
       "       1.85 , 1.925, 1.95 , 1.95 , 1.85 , 1.95 , 1.85 , 1.8  , 1.9  ,\n",
       "       1.825, 1.825, 1.925, 1.925, 1.775, 1.95 , 1.75 , 1.85 , 1.8  ,\n",
       "       1.825, 1.875, 1.85 , 1.825, 1.85 , 1.825, 1.95 , 1.9  , 1.825,\n",
       "       1.875, 1.95 , 1.925, 1.8  , 1.725, 1.85 , 1.75 , 1.85 , 1.9  ,\n",
       "       1.875, 1.825, 1.825, 1.825, 1.85 , 1.85 , 1.75 , 1.85 , 1.875,\n",
       "       1.8  , 1.925, 1.825, 1.9  , 1.825, 1.875, 1.85 , 1.825, 1.775,\n",
       "       1.9  , 1.875, 1.825, 1.825, 1.9  , 1.825, 1.875, 1.875, 1.925,\n",
       "       1.85 , 1.775, 1.85 , 1.85 , 1.875, 1.8  , 1.825, 1.9  , 1.925,\n",
       "       1.825, 1.75 , 1.825, 1.85 , 1.925, 1.875, 1.825, 1.925, 1.925,\n",
       "       1.85 , 1.85 , 1.875, 1.775, 1.75 , 1.975, 1.85 , 1.8  , 2.05 ,\n",
       "       1.85 , 1.85 , 1.8  , 1.9  , 1.825, 1.8  , 1.8  , 1.75 , 1.775,\n",
       "       1.875, 1.9  , 1.9  , 1.95 , 1.875, 1.9  , 1.8  , 1.825, 1.75 ,\n",
       "       1.85 , 1.825, 1.825, 1.875, 1.75 , 1.975, 1.875, 1.875, 1.825,\n",
       "       1.75 , 1.775, 1.875, 1.8  , 1.8  , 1.9  , 1.875, 1.725, 1.8  ,\n",
       "       1.9  , 1.775, 1.875, 1.925, 1.75 , 1.8  , 1.775, 1.85 , 1.9  ,\n",
       "       1.8  , 1.85 , 1.8  , 1.775, 1.75 , 1.8  , 1.85 , 1.85 , 1.875,\n",
       "       1.85 , 1.775, 1.775, 1.9  , 1.775, 1.85 , 1.8  , 1.9  , 1.95 ,\n",
       "       1.8  , 1.9  , 1.75 , 1.7  , 1.775, 1.925, 1.725, 1.875, 1.875,\n",
       "       1.9  , 1.8  , 1.925, 1.75 , 1.975, 1.85 , 1.7  , 1.875, 1.8  ,\n",
       "       1.8  , 1.825, 1.85 , 1.8  , 1.875, 1.8  , 1.825, 1.9  , 1.85 ,\n",
       "       1.875, 1.9  , 1.85 , 1.8  , 1.825, 1.8  , 1.825, 1.8  , 1.825,\n",
       "       1.75 , 1.8  , 1.875, 1.825, 1.9  , 1.925, 1.925, 1.875, 1.875,\n",
       "       1.9  , 1.8  , 1.825, 1.85 , 1.8  , 1.85 , 1.85 , 1.875, 1.775,\n",
       "       1.9  , 1.825, 1.7  , 1.8  , 1.725, 1.825, 1.875, 1.85 , 1.85 ,\n",
       "       1.85 , 1.825, 1.85 , 1.875, 1.85 , 1.825, 1.9  , 1.95 , 1.825,\n",
       "       1.875, 1.675, 1.75 , 1.75 , 1.975, 1.9  , 1.8  , 1.875])"
      ]
     },
     "execution_count": 99,
     "metadata": {},
     "output_type": "execute_result"
    }
   ],
   "source": [
    "batsmen[:,0]"
   ]
  },
  {
   "cell_type": "code",
   "execution_count": null,
   "metadata": {},
   "outputs": [],
   "source": []
  }
 ],
 "metadata": {
  "kernelspec": {
   "display_name": "Python 3",
   "language": "python",
   "name": "python3"
  },
  "language_info": {
   "codemirror_mode": {
    "name": "ipython",
    "version": 3
   },
   "file_extension": ".py",
   "mimetype": "text/x-python",
   "name": "python",
   "nbconvert_exporter": "python",
   "pygments_lexer": "ipython3",
   "version": "3.8.5"
  }
 },
 "nbformat": 4,
 "nbformat_minor": 2
}
