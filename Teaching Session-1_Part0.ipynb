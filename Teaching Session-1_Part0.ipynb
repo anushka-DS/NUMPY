{
 "cells": [
  {
   "cell_type": "code",
   "execution_count": null,
   "metadata": {},
   "outputs": [],
   "source": [
    "## Numpy vs Lists \n",
    "\n",
    "\n",
    "NumPy, which stands for ‘Numerical Python’, is a library meant for scientific calculations. The basic data structure of NumPy is an array.\n",
    "A NumPy array is a collection of values stored together, similar to a list.\n",
    "\n",
    "This video mentioned two different advantages that NumPy arrays have over lists. These include:\n",
    "\n",
    "1. Ability to operate on individual elements in the array without using loops or list comprehension.\n",
    "2. Speed of execution ... a NumPy array is faster than a list.\n",
    "\n",
    "Creating NumPy Arrays There are two ways to create NumPy arrays, which are mentioned below.\n",
    "\n",
    "1. By converting the existing lists or tuples to arrays using np.array \n",
    "2. By initialising fixed-length arrays using the NumPy functions. NumPy can have single and multi dimensional arrays to operate on.\n",
    "\n",
    "\n",
    "The key advantage of using NumPy arrays over lists is that arrays allow you to operate over the entire data, unlike lists.\n",
    "However, in terms of structure, NumPy arrays are extremely similar to lists. If you try to run the print() command over a NumPy array, then you will get the following output:\n",
    "\n",
    "[element_1 element_2 element_3…]\n",
    "\n",
    "\n",
    "The only difference between a NumPy array and a list is that the elements in the NumPy array are separated by a space instead of a comma.\n",
    "Hence, this is an aesthetic feature that differentiates a list and a NumPy array.\n",
    "\n",
    "Another feature of NumPy arrays is that they are homogeneous in nature.By homogenous, we mean that all the elements in a NumPy array have to be of the same data type, which could be an integer, float, string, etc."
   ]
  },
  {
   "cell_type": "code",
   "execution_count": 2,
   "metadata": {},
   "outputs": [],
   "source": [
    "#Let's define a list in python.\n",
    "heights = [74, 75, 72, 72, 71]"
   ]
  },
  {
   "cell_type": "code",
   "execution_count": 3,
   "metadata": {},
   "outputs": [
    {
     "data": {
      "text/plain": [
       "[74, 75, 72, 72, 71]"
      ]
     },
     "execution_count": 3,
     "metadata": {},
     "output_type": "execute_result"
    }
   ],
   "source": [
    "# Print the heights.\n",
    "heights"
   ]
  },
  {
   "cell_type": "code",
   "execution_count": 6,
   "metadata": {},
   "outputs": [
    {
     "ename": "TypeError",
     "evalue": "can't multiply sequence by non-int of type 'float'",
     "output_type": "error",
     "traceback": [
      "\u001b[1;31m---------------------------------------------------------------------------\u001b[0m",
      "\u001b[1;31mTypeError\u001b[0m                                 Traceback (most recent call last)",
      "\u001b[1;32m<ipython-input-6-e7573032a4ae>\u001b[0m in \u001b[0;36m<module>\u001b[1;34m\u001b[0m\n\u001b[0;32m      1\u001b[0m \u001b[1;31m# Try to multiple height with a scalar.\u001b[0m\u001b[1;33m\u001b[0m\u001b[1;33m\u001b[0m\u001b[1;33m\u001b[0m\u001b[0m\n\u001b[1;32m----> 2\u001b[1;33m \u001b[0mheights\u001b[0m \u001b[1;33m*\u001b[0m \u001b[1;36m2.54\u001b[0m\u001b[1;33m\u001b[0m\u001b[1;33m\u001b[0m\u001b[0m\n\u001b[0m",
      "\u001b[1;31mTypeError\u001b[0m: can't multiply sequence by non-int of type 'float'"
     ]
    }
   ],
   "source": [
    "# Try to multiple heights with a scalar.\n",
    "heights * 2.54"
   ]
  },
  {
   "cell_type": "code",
   "execution_count": 7,
   "metadata": {},
   "outputs": [],
   "source": [
    "import numpy as np"
   ]
  },
  {
   "cell_type": "code",
   "execution_count": 9,
   "metadata": {},
   "outputs": [],
   "source": [
    "# Deine a NumPy array\n",
    "np_heights = np.array([74, 75, 72, 72, 71])"
   ]
  },
  {
   "cell_type": "code",
   "execution_count": 10,
   "metadata": {},
   "outputs": [
    {
     "data": {
      "text/plain": [
       "array([74, 75, 72, 72, 71])"
      ]
     },
     "execution_count": 10,
     "metadata": {},
     "output_type": "execute_result"
    }
   ],
   "source": [
    "np_heights"
   ]
  },
  {
   "cell_type": "code",
   "execution_count": 11,
   "metadata": {},
   "outputs": [
    {
     "data": {
      "text/plain": [
       "numpy.ndarray"
      ]
     },
     "execution_count": 11,
     "metadata": {},
     "output_type": "execute_result"
    }
   ],
   "source": [
    "# Print the type of a NumPy array.\n",
    "type(np_heights)"
   ]
  },
  {
   "cell_type": "code",
   "execution_count": 12,
   "metadata": {},
   "outputs": [
    {
     "data": {
      "text/plain": [
       "array([187.96, 190.5 , 182.88, 182.88, 180.34])"
      ]
     },
     "execution_count": 12,
     "metadata": {},
     "output_type": "execute_result"
    }
   ],
   "source": [
    "# Multiple height (NumPy array) with a scalar.\n",
    "np_heights * 2.54"
   ]
  },
  {
   "cell_type": "code",
   "execution_count": null,
   "metadata": {},
   "outputs": [],
   "source": []
  },
  {
   "cell_type": "markdown",
   "metadata": {},
   "source": [
    "\n",
    "#### NumPy comes with its own set of methods and operations"
   ]
  },
  {
   "cell_type": "code",
   "execution_count": 40,
   "metadata": {},
   "outputs": [
    {
     "data": {
      "text/plain": [
       "[1, 2, 3, 4, 5, 6]"
      ]
     },
     "execution_count": 40,
     "metadata": {},
     "output_type": "execute_result"
    }
   ],
   "source": [
    "# Let's define two lists and perform '+' operation on that.\n",
    "list_1 = [1,2,3]\n",
    "list_2 = [4,5,6]\n",
    "list_1 + list_2"
   ]
  },
  {
   "cell_type": "code",
   "execution_count": 41,
   "metadata": {},
   "outputs": [
    {
     "data": {
      "text/plain": [
       "array([5, 7, 9])"
      ]
     },
     "execution_count": 41,
     "metadata": {},
     "output_type": "execute_result"
    }
   ],
   "source": [
    "# Let's define two NumPy array and perform '+' operation on that.\n",
    "np1 = np.array([1,2,3])\n",
    "np2 = np.array([4,5,6])\n",
    "np1 + np2"
   ]
  },
  {
   "cell_type": "markdown",
   "metadata": {},
   "source": [
    "#### Working with N-D Arrays"
   ]
  },
  {
   "cell_type": "code",
   "execution_count": 45,
   "metadata": {},
   "outputs": [
    {
     "data": {
      "text/plain": [
       "array([74, 75, 72, 72, 71])"
      ]
     },
     "execution_count": 45,
     "metadata": {},
     "output_type": "execute_result"
    }
   ],
   "source": [
    "np_heights"
   ]
  },
  {
   "cell_type": "code",
   "execution_count": 46,
   "metadata": {},
   "outputs": [
    {
     "data": {
      "text/plain": [
       "numpy.ndarray"
      ]
     },
     "execution_count": 46,
     "metadata": {},
     "output_type": "execute_result"
    }
   ],
   "source": [
    "type(np_heights)"
   ]
  },
  {
   "cell_type": "code",
   "execution_count": null,
   "metadata": {},
   "outputs": [],
   "source": []
  }
 ],
 "metadata": {
  "kernelspec": {
   "display_name": "Python 3",
   "language": "python",
   "name": "python3"
  },
  "language_info": {
   "codemirror_mode": {
    "name": "ipython",
    "version": 3
   },
   "file_extension": ".py",
   "mimetype": "text/x-python",
   "name": "python",
   "nbconvert_exporter": "python",
   "pygments_lexer": "ipython3",
   "version": "3.8.5"
  }
 },
 "nbformat": 4,
 "nbformat_minor": 2
}
